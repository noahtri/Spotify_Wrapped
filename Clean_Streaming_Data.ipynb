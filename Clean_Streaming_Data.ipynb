{
 "cells": [
  {
   "cell_type": "markdown",
   "metadata": {},
   "source": [
    "# Spotify Wrapped Project\n",
    "## By Noah Tri\n",
    "## Version 1.0\n",
    "---"
   ]
  },
  {
   "cell_type": "markdown",
   "metadata": {},
   "source": [
    "### Part 1: Importing the full spotify streaming history from json files\n",
    "\n",
    "- Set your working directory to the folder which contains your downloaded extended streaming history from the Accounts & Privacy page on Spotify"
   ]
  },
  {
   "cell_type": "code",
   "execution_count": null,
   "metadata": {},
   "outputs": [],
   "source": [
    "## import files and create dataframe of all of them\n",
    "\n",
    "import pandas as pd \n",
    "import numpy as np\n",
    "import json \n",
    "import glob\n",
    "import re\n",
    "import time\n",
    "\n",
    "files = glob.glob(\"Streaming_History_Audio*.json\")\n",
    "all_streams_list = []\n",
    "for file in files:\n",
    "    with open(file) as file_contents:\n",
    "        file_list = json.load(file_contents)\n",
    "    all_streams_list.extend(file_list)\n",
    "\n",
    "all_streams_df = pd.DataFrame(all_streams_list).rename(columns={'ts':'date_time', 'master_metadata_track_name':'song', 'master_metadata_album_artist_name':'artist', 'master_metadata_album_album_name':'album'})\n",
    "all_streams_df['date_time'] = pd.to_datetime(all_streams_df['date_time'])\n",
    "all_streams_df['date'] = (all_streams_df.date_time).dt.date\n",
    "all_streams_df['year'] = all_streams_df['date'].apply(lambda row: row.year)\n",
    "all_streams_df['month'] = all_streams_df['date'].apply(lambda row: row.strftime(\"%B\"))\n",
    "\n",
    "full_files = all_streams_df[~all_streams_df['song'].isnull()].drop_duplicates().iloc[:,[0,2,5,6,7,8,12,13,14,15,19,20,21]].reset_index(drop=True)\n",
    "full_files['track_id'] = full_files['spotify_track_uri'].astype(str).apply(lambda x: re.sub('spotify:track:', \"\", x))"
   ]
  },
  {
   "cell_type": "markdown",
   "metadata": {},
   "source": [
    "### Part 2: Setting up access for the Spotify API\n",
    "\n",
    "- get client ID and Client Secret from Spotify Developer Dashboard (https://developer.spotify.com/dashboard)"
   ]
  },
  {
   "cell_type": "code",
   "execution_count": null,
   "metadata": {},
   "outputs": [],
   "source": [
    "import requests\n",
    "\n",
    "client_id = 'enter_your_client_id_here'\n",
    "clinet_secret = 'enter_your_client_secret_here'\n",
    "\n",
    "base_url = \"https://api.spotify.com\""
   ]
  },
  {
   "cell_type": "code",
   "execution_count": null,
   "metadata": {},
   "outputs": [],
   "source": [
    "# Access Token\n",
    "AUTH_URL = 'https://accounts.spotify.com/api/token'\n",
    "params = {'client_id':client_id, 'client_secret':clinet_secret, 'grant_type':'client_credentials'}\n",
    "\n",
    "auth_response = requests.post(AUTH_URL, params)\n",
    "assert auth_response.status_code == 200, \"Bad request\"\n",
    "access_token = (auth_response.json())['access_token']\n",
    "headers = {'Authorization': f\"Bearer {access_token}\"}\n"
   ]
  },
  {
   "cell_type": "markdown",
   "metadata": {},
   "source": [
    "### Part 3: Combining the API data with Streaming History data\n",
    "\n",
    "1. Get all track information using track API\n",
    "2. Replace album information for every song that has album type == single if that song belongs to an album using the artist API then album API\n",
    "\n",
    "*Note: I chose to replace albums in part 2 for consistency in album statistics later.*"
   ]
  },
  {
   "cell_type": "code",
   "execution_count": 8,
   "metadata": {},
   "outputs": [],
   "source": [
    "all_track_ids = full_files['track_id'].unique().tolist()\n",
    "\n",
    "full_track_length = len(all_track_ids)\n",
    "loop_times = int(full_track_length/50) + (full_track_length % 50 > 0)\n",
    "\n",
    "all_track_dicts = []\n",
    "\n",
    "for i in range(loop_times):\n",
    "\n",
    "    # Set index and define ID lists\n",
    "    index1 = 50*i\n",
    "    index2 = 50*(i+1)\n",
    "\n",
    "    if i < loop_times:\n",
    "        current_list = all_track_ids[index1:index2]\n",
    "    if i == loop_times:\n",
    "        current_list = all_track_ids[index1:]\n",
    "    current_list = [x for x in current_list if x != 'None']\n",
    "\n",
    "    track_ids = \",\".join(current_list)\n",
    "\n",
    "    # Make the API call\n",
    "    url = base_url+\"/v1/tracks\"\n",
    "    track_resp = requests.get(url, headers=headers, params = {\"ids\":track_ids})\n",
    "    assert track_resp.status_code == 200, track_resp.status_code\n",
    "    full_track_dict = track_resp.json()\n",
    "\n",
    "    # Build dictionary for each track\n",
    "    for track in full_track_dict['tracks']:\n",
    "        if track == None: \n",
    "            continue\n",
    "\n",
    "        temp_dict = {'song_name': track['name'],'track_duration_ms':track['duration_ms'],'disc_number':track['disc_number'], 'track_number':track['track_number'],'album_tracks':track['album']['total_tracks'],'album_name':track['album']['name'],\n",
    "                    \"album_type\":track['album']['album_type'],'release_date':track['album']['release_date'],'release_date_precision':track['album']['release_date_precision'],\n",
    "                    'track_id': str(track['id']), \"track_link\":track['external_urls']['spotify'],'album_id':track['album']['id'], \"album_link\":track['album']['external_urls']['spotify']}\n",
    "\n",
    "        if (track.get('images') != None):\n",
    "                temp_dict['album_image']= track['album']['images'][0]['url']\n",
    "            \n",
    "        for artist_number in range(len(track['artists'])):\n",
    "            if artist_number > 3:\n",
    "                break\n",
    "            column_name = \"artist_\"+ (str(artist_number+1))\n",
    "            temp_dict[column_name] = track['artists'][artist_number]['name']\n",
    "            if artist_number == 0:\n",
    "                temp_dict['artist_id'] = track['artists'][artist_number]['id']\n",
    "            \n",
    "        all_track_dicts.append(temp_dict)\n",
    "\n",
    "df_all_tracks = pd.DataFrame(all_track_dicts)"
   ]
  },
  {
   "cell_type": "code",
   "execution_count": 9,
   "metadata": {},
   "outputs": [],
   "source": [
    "option_1 = full_files.merge(df_all_tracks, on = 'track_id', how = 'inner').drop_duplicates().sort_values('date_time').reset_index(drop=True)\n",
    "songs_wrong_album_type = option_1.loc[option_1['album_type'] != \"album\"].loc[:,['song_name', 'artist_id', 'ms_played','track_duration_ms','artist_1']]\n",
    "list_artist_id = songs_wrong_album_type.groupby('artist_id').sum('ms_played').sort_values('ms_played',ascending=False)[:500].index.tolist()"
   ]
  },
  {
   "cell_type": "code",
   "execution_count": null,
   "metadata": {},
   "outputs": [],
   "source": [
    "artist_album_list = []\n",
    "\n",
    "for artist_id in list_artist_id:\n",
    "    url = base_url+\"/v1/artists/\" + artist_id+ \"/albums\"\n",
    "    artist_resp = requests.get(url, headers=headers, params = {'limit':50, 'include_groups':\"album\", 'market':\"US\"})\n",
    "    assert artist_resp.status_code == 200, artist_resp.status_code\n",
    "    for album in artist_resp.json()['items']:\n",
    "        temp_dict = {\"album_name\":album['name'], 'album_id':album['id']}\n",
    "        artist_album_list.append(temp_dict)\n",
    "\n",
    "df_replace_albums = pd.DataFrame(artist_album_list).drop_duplicates().reset_index(drop=True)      "
   ]
  },
  {
   "cell_type": "code",
   "execution_count": null,
   "metadata": {},
   "outputs": [],
   "source": [
    "## take what columns I will change for each song in this cell\n",
    "song_list = []\n",
    "\n",
    "album_length = df_replace_albums.shape[0]\n",
    "loop_times = int(album_length/20) + (album_length % 20 > 0)\n",
    "\n",
    "for i in range(loop_times):\n",
    "    index1 = 20*i\n",
    "    index2 = 20*(i+1)-1\n",
    "\n",
    "    if i < loop_times:\n",
    "        current_albums = df_replace_albums.loc[index1:index2,\"album_id\"]\n",
    "    if i == loop_times:\n",
    "        current_albums = df_replace_albums.loc[index1:, \"album_id\"]\n",
    "\n",
    "    album_id_string = current_albums.iloc[0]\n",
    "    for entry in current_albums.iloc[1:]:\n",
    "        album_id_string = album_id_string+\",\"+entry\n",
    "    time.sleep(.3)\n",
    "    # API request\n",
    "    album_url = base_url+\"/v1/albums\"\n",
    "    album_resp = requests.get(album_url, headers=headers, params={'ids':album_id_string, 'market':'US'})\n",
    "    assert album_resp.status_code == 200, album_resp.status_code\n",
    "    album_dict = album_resp.json()\n",
    "\n",
    "    # Build dictionary for each song\n",
    "    for album in album_dict['albums']:\n",
    "\n",
    "        for track in album['tracks']['items']:\n",
    "\n",
    "            temp_dict = {\"song_name\":str(track['name']),'disc':track['disc_number'], 'track_number': track['track_number'], 'track_duration_ms':track['duration_ms'], # track duration?\n",
    "                        'track_id':track['id'], \"track_link\":track['external_urls']['spotify'],'album_id':album['id'],\n",
    "                        'album_name':album['name'], 'album_type':album['album_type'], 'album_tracks':album['total_tracks'],'release_date':album['release_date'], 'precision':album['release_date_precision'],\n",
    "                        'album_link':album['external_urls']['spotify']}\n",
    "            \n",
    "            if (track.get('images') != None):\n",
    "                temp_dict['album_image']= album['images'][0]['url']\n",
    "            \n",
    "            for artist_number in range(len(track['artists'])):\n",
    "                if artist_number > 0:\n",
    "                    break\n",
    "                column_name = \"artist_\"+ (str(artist_number+1))\n",
    "                temp_dict[column_name] = track['artists'][artist_number]['name']\n",
    "\n",
    "            song_list.append(temp_dict)\n",
    "\n",
    "\n",
    "df_songs_replace_albums = pd.DataFrame(song_list)\n",
    "songs_first_album = df_songs_replace_albums.loc[df_songs_replace_albums.groupby(['song_name','artist_1'])['release_date'].idxmin()]"
   ]
  },
  {
   "cell_type": "code",
   "execution_count": 16,
   "metadata": {},
   "outputs": [],
   "source": [
    "songs_first_album = df_songs_replace_albums.loc[df_songs_replace_albums.groupby(['song_name','artist_1','track_duration_ms'])['release_date'].idxmin()]\n",
    "songs_first_album_filtered = songs_first_album.merge(option_1[option_1['album_type']!=\"album\"].loc[:,'song_name'].drop_duplicates().reset_index(drop=True), how = \"inner\")\n",
    "x = songs_first_album_filtered"
   ]
  },
  {
   "cell_type": "code",
   "execution_count": null,
   "metadata": {},
   "outputs": [],
   "source": [
    "# define function for changing album types that are singles/compilations\n",
    "def replace_album(row):\n",
    "\n",
    "    if (row['album_type']==\"album\"):\n",
    "        return row\n",
    "    \n",
    "    bool1 = (x['song_name']==row['song_name'])\n",
    "    bool2 = (x['artist_1']==row['artist_1'])\n",
    "    replace_row = x[bool1 & bool2]\n",
    "\n",
    "    if replace_row.shape[0]==0:\n",
    "        return row\n",
    "    \n",
    "    row['album'] = replace_row.iloc[0].loc['album_name']\n",
    "    row['album_name'] = replace_row.iloc[0].loc['album_name']\n",
    "    row['album_type'] = replace_row.iloc[0].loc['album_type']\n",
    "    row['track_id'] = replace_row.iloc[0].loc['track_id']\n",
    "    row['disc_number'] = replace_row.iloc[0].loc['disc']\n",
    "    row['track_number'] = replace_row.iloc[0].loc['track_number']\n",
    "    row['album_tracks'] = replace_row.iloc[0].loc['album_tracks']\n",
    "    row['track_link'] = replace_row.iloc[0].loc['track_link']\n",
    "    row['album_id'] = replace_row.iloc[0].loc['album_id']\n",
    "    row['album_link'] = replace_row.iloc[0].loc['album_link']\n",
    "    return row\n",
    "\n",
    "final_streaming_history = option_1.apply(replace_album, axis = 1)\n"
   ]
  },
  {
   "cell_type": "code",
   "execution_count": null,
   "metadata": {},
   "outputs": [],
   "source": [
    "## validating rows of original streaming history match after adding the api data\n",
    "outer = full_files.merge(final_streaming_history.loc[:,['date_time', 'song']], how = 'outer', indicator=True)\n",
    "anti_join = outer[(outer._merge=='left_only')].drop('_merge', axis =1)\n",
    "anti_join.shape[0]"
   ]
  },
  {
   "cell_type": "markdown",
   "metadata": {},
   "source": [
    "### Part 4: Writing final_streaming_history to csv"
   ]
  },
  {
   "cell_type": "code",
   "execution_count": null,
   "metadata": {},
   "outputs": [],
   "source": [
    "# write to csv file\n",
    "final_streaming_history.to_csv(\"/Users/noahtri/Desktop/Spotify/Final_Streaming_History.csv\", index = False)"
   ]
  }
 ],
 "metadata": {
  "kernelspec": {
   "display_name": "Python 3",
   "language": "python",
   "name": "python3"
  },
  "language_info": {
   "codemirror_mode": {
    "name": "ipython",
    "version": 3
   },
   "file_extension": ".py",
   "mimetype": "text/x-python",
   "name": "python",
   "nbconvert_exporter": "python",
   "pygments_lexer": "ipython3",
   "version": "3.12.8"
  }
 },
 "nbformat": 4,
 "nbformat_minor": 2
}
